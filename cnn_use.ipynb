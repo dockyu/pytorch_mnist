{
 "cells": [
  {
   "cell_type": "code",
   "execution_count": 24,
   "metadata": {},
   "outputs": [],
   "source": [
    "import torch\n",
    "from torch.utils import data as data_\n",
    "import torch.nn as nn\n",
    "from torch.autograd import Variable\n",
    "import matplotlib.pyplot as plt\n",
    "import torchvision\n",
    "import cv2"
   ]
  },
  {
   "cell_type": "code",
   "execution_count": 25,
   "metadata": {},
   "outputs": [
    {
     "name": "stdout",
     "output_type": "stream",
     "text": [
      "CNN(\n",
      "  (conv1): Sequential(\n",
      "    (0): Conv2d(1, 16, kernel_size=(5, 5), stride=(1, 1), padding=(2, 2))\n",
      "    (1): ReLU()\n",
      "    (2): MaxPool2d(kernel_size=2, stride=2, padding=0, dilation=1, ceil_mode=False)\n",
      "  )\n",
      "  (conv2): Sequential(\n",
      "    (0): Conv2d(16, 32, kernel_size=(5, 5), stride=(1, 1), padding=(2, 2))\n",
      "    (1): ReLU()\n",
      "    (2): MaxPool2d(kernel_size=2, stride=2, padding=0, dilation=1, ceil_mode=False)\n",
      "  )\n",
      "  (out): Linear(in_features=1568, out_features=10, bias=True)\n",
      ")\n"
     ]
    }
   ],
   "source": [
    "class CNN(nn.Module):\n",
    "  def __init__(self): # 建立 類 CNN 時執行，裡面可以寫想要被建立的layer\n",
    "    super(CNN, self).__init__()\n",
    "    self.conv1 = nn.Sequential(\n",
    "        nn.Conv2d(in_channels = 1, out_channels = 16, kernel_size = 5, stride = 1, padding = 2,),\n",
    "        # stride = 1, padding = (kernel_size-1)/2 = (5-1)/2\n",
    "        # out_channels=16 代表建立16個kernel，所以會擷取16個特徵，一張圖輸出16個特徵矩陣\n",
    "        # padding 是padding在四周，所以kernel的中心可以在原始圖像上全部走一遍，使的輸出和輸入一樣大小\n",
    "        nn.ReLU(),# (16, 28, 28)\n",
    "        nn.MaxPool2d(kernel_size = 2),# (16, 14, 14)\n",
    "    )\n",
    "    self.conv2 = nn.Sequential(# (16, 14, 14)\n",
    "        nn.Conv2d(16, 32, 5, 1, 2),# (32, 14, 14)\n",
    "        nn.ReLU(),# (32,14,14)\n",
    "        nn.MaxPool2d(2)# (32, 7, 7)\n",
    "    )\n",
    "    self.out = nn.Linear(32*7*7, 10) # 輸出10個類別\n",
    "\n",
    "  def forward(self, x): # 定義輸入x要經過那些層\n",
    "    x = self.conv1(x)\n",
    "    x = self.conv2(x)\n",
    "    x = x.view(x.size(0), -1)\n",
    "    output = self.out(x)\n",
    "    return output, x\n",
    "\n",
    "cnn = CNN()\n",
    "print(cnn)"
   ]
  },
  {
   "cell_type": "code",
   "execution_count": 26,
   "metadata": {},
   "outputs": [
    {
     "data": {
      "text/plain": [
       "CNN(\n",
       "  (conv1): Sequential(\n",
       "    (0): Conv2d(1, 16, kernel_size=(5, 5), stride=(1, 1), padding=(2, 2))\n",
       "    (1): ReLU()\n",
       "    (2): MaxPool2d(kernel_size=2, stride=2, padding=0, dilation=1, ceil_mode=False)\n",
       "  )\n",
       "  (conv2): Sequential(\n",
       "    (0): Conv2d(16, 32, kernel_size=(5, 5), stride=(1, 1), padding=(2, 2))\n",
       "    (1): ReLU()\n",
       "    (2): MaxPool2d(kernel_size=2, stride=2, padding=0, dilation=1, ceil_mode=False)\n",
       "  )\n",
       "  (out): Linear(in_features=1568, out_features=10, bias=True)\n",
       ")"
      ]
     },
     "execution_count": 26,
     "metadata": {},
     "output_type": "execute_result"
    }
   ],
   "source": [
    "cnn = torch.load('./model/cnn_model.pth')\n",
    "cnn.eval()  # 切換到評估模式"
   ]
  },
  {
   "cell_type": "code",
   "execution_count": 27,
   "metadata": {},
   "outputs": [],
   "source": [
    "def predict_and_show_resized(img, model):\n",
    "    \n",
    "    # 將圖片轉換為PyTorch張量（Tensor）\n",
    "    img_tensor = torch.Tensor(img).unsqueeze(0).unsqueeze(0) / 255.0  # 歸一化並增加 batch 和 channel 維度\n",
    "    \n",
    "    # 使用模型進行預測\n",
    "    model.eval()\n",
    "    with torch.no_grad():\n",
    "        output, _ = model(img_tensor)\n",
    "    \n",
    "    # 從模型輸出中獲得預測的數字\n",
    "    predicted_num = torch.max(output, 1)[1].data.numpy()[0]  # 注意我在這裡添加了[0]來獲取純數字，而不是一個單一元素的數組\n",
    "    \n",
    "    # 畫出原始圖片\n",
    "    plt.figure()\n",
    "    plt.imshow(img, cmap='gray')\n",
    "    plt.title(\"Original Image\")\n",
    "    plt.show()\n",
    "    \n",
    "    # 用文字顯示預測結果\n",
    "    print(f\"Predicted number is: {predicted_num}\")"
   ]
  },
  {
   "cell_type": "code",
   "execution_count": 31,
   "metadata": {},
   "outputs": [
    {
     "data": {
      "image/png": "[encoded data removed]",
      "text/plain": [
       "<Figure size 640x480 with 1 Axes>"
      ]
     },
     "metadata": {},
     "output_type": "display_data"
    },
    {
     "name": "stdout",
     "output_type": "stream",
     "text": [
      "Predicted number is: 7\n"
     ]
    }
   ],
   "source": [
    "# 讀取JPG圖片\n",
    "img_color = cv2.imread('./test_picture/real.jpg')  # 將 'your_image.jpg' 替換為你的JPG檔案路徑\n",
    "\n",
    "# 將彩色圖片轉換為灰度圖像\n",
    "img_gray = cv2.cvtColor(img_color, cv2.COLOR_BGR2GRAY)\n",
    "\n",
    "# 圖像反相\n",
    "img_gray_inverted = cv2.bitwise_not(img_gray)\n",
    "\n",
    "# 如果 img 不是 28x28，使用OpenCV來調整大小\n",
    "if img_gray_inverted.shape != (28, 28):\n",
    "    img_gray_inverted = cv2.resize(img_gray_inverted, (28, 28))\n",
    "\n",
    "# 使用函數進行預測和顯示\n",
    "# 假設 cnn 是你已經訓練好的模型\n",
    "predict_and_show_resized(img_gray_inverted, cnn)  # 將 'cnn' 替換為你的實際模型變數名稱\n"
   ]
  }
 ],
 "metadata": {
  "kernelspec": {
   "display_name": "pytorch",
   "language": "python",
   "name": "python3"
  },
  "language_info": {
   "codemirror_mode": {
    "name": "ipython",
    "version": 3
   },
   "file_extension": ".py",
   "mimetype": "text/x-python",
   "name": "python",
   "nbconvert_exporter": "python",
   "pygments_lexer": "ipython3",
   "version": "3.8.18"
  }
 },
 "nbformat": 4,
 "nbformat_minor": 2
}
